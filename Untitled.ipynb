{
 "cells": [
  {
   "cell_type": "code",
   "execution_count": null,
   "id": "7304fb31-214b-406f-86df-00d5dd817fdc",
   "metadata": {},
   "outputs": [],
   "source": [
    "import string\n",
    "import random\n",
    "\n",
    "number_of_strings = 1\n",
    "length_of_string = 2606\n",
    "for x in range(number_of_strings):\n",
    "  Secuens=(''.join(random.choice(\"A\"+\"C\"+\"G\"+\"T\") for _ in range(length_of_string)))"
   ]
  },
  {
   "cell_type": "code",
   "execution_count": null,
   "id": "63ce235f-cdeb-489a-ba0f-515d712c37bc",
   "metadata": {},
   "outputs": [],
   "source": [
    "Secuens"
   ]
  },
  {
   "cell_type": "code",
   "execution_count": 4,
   "id": "dcb266ab-4bfc-4322-9379-cc832388db6d",
   "metadata": {},
   "outputs": [],
   "source": [
    "from Bio.Blast import NCBIWWW\n",
    "fasta_string = open(\"NZ_KB89904.fasta\").read()\n",
    "result_handle = NCBIWWW.qblast(\"blastn\", \"nt\", fasta_string)"
   ]
  },
  {
   "cell_type": "code",
   "execution_count": 9,
   "id": "9c467018-75f7-48be-aa23-15d173af17ca",
   "metadata": {},
   "outputs": [],
   "source": [
    "with open(\"my_blast.xml\", \"w\") as out_handle:\n",
    "     out_handle.write(result_handle.read())\n",
    "\n",
    "result_handle.close()"
   ]
  },
  {
   "cell_type": "code",
   "execution_count": 13,
   "id": "b42bac00-0954-4bd2-9b96-e41338efd9de",
   "metadata": {},
   "outputs": [
    {
     "ename": "AttributeError",
     "evalue": "module 'Bio.Blast.NCBIWWW' has no attribute 'read'",
     "output_type": "error",
     "traceback": [
      "\u001b[1;31m---------------------------------------------------------------------------\u001b[0m",
      "\u001b[1;31mAttributeError\u001b[0m                            Traceback (most recent call last)",
      "Input \u001b[1;32mIn [13]\u001b[0m, in \u001b[0;36m<cell line: 2>\u001b[1;34m()\u001b[0m\n\u001b[0;32m      1\u001b[0m result_handle \u001b[38;5;241m=\u001b[39m \u001b[38;5;28mopen\u001b[39m(\u001b[38;5;124m\"\u001b[39m\u001b[38;5;124mmy_blast.xml\u001b[39m\u001b[38;5;124m\"\u001b[39m, \u001b[38;5;124m'\u001b[39m\u001b[38;5;124mr\u001b[39m\u001b[38;5;124m'\u001b[39m)\n\u001b[1;32m----> 2\u001b[0m blast_record \u001b[38;5;241m=\u001b[39m \u001b[43mNCBIWWW\u001b[49m\u001b[38;5;241;43m.\u001b[39;49m\u001b[43mread\u001b[49m(result_handle)\n",
      "\u001b[1;31mAttributeError\u001b[0m: module 'Bio.Blast.NCBIWWW' has no attribute 'read'"
     ]
    }
   ],
   "source": [
    "result_handle = open(\"my_blast.xml\", 'r')\n",
    "blast_record = NCBIWWW.read(result_handle)"
   ]
  },
  {
   "cell_type": "code",
   "execution_count": 15,
   "id": "d9fcde00-4ad6-4909-85d2-33a83d34def7",
   "metadata": {},
   "outputs": [],
   "source": [
    "from Bio.Blast import NCBIXML\n",
    "blast_records = NCBIXML.parse(result_handle)"
   ]
  }
 ],
 "metadata": {
  "kernelspec": {
   "display_name": "Python 3 (ipykernel)",
   "language": "python",
   "name": "python3"
  },
  "language_info": {
   "codemirror_mode": {
    "name": "ipython",
    "version": 3
   },
   "file_extension": ".py",
   "mimetype": "text/x-python",
   "name": "python",
   "nbconvert_exporter": "python",
   "pygments_lexer": "ipython3",
   "version": "3.9.12"
  }
 },
 "nbformat": 4,
 "nbformat_minor": 5
}
