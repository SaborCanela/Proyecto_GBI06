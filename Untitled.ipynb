{
 "cells": [
  {
   "cell_type": "code",
   "execution_count": 2,
   "id": "7304fb31-214b-406f-86df-00d5dd817fdc",
   "metadata": {},
   "outputs": [
    {
     "name": "stdout",
     "output_type": "stream",
     "text": [
      "ATCCTCACATCCAGCTAAGTTAGCAAACCAGTCTTATAAATTCGACATAGAATCTTACCATCATTGGTATGGCGGAAACAGCCTAACCTGATACCACCGG\n"
     ]
    }
   ],
   "source": [
    "import string\n",
    "import random\n",
    "\n",
    "number_of_strings = 1\n",
    "length_of_string = 100\n",
    "for x in range(number_of_strings):\n",
    "  print(''.join(random.choice(\"A\"+\"C\"+\"G\"+\"T\") for _ in range(length_of_string)))"
   ]
  }
 ],
 "metadata": {
  "kernelspec": {
   "display_name": "Python 3 (ipykernel)",
   "language": "python",
   "name": "python3"
  },
  "language_info": {
   "codemirror_mode": {
    "name": "ipython",
    "version": 3
   },
   "file_extension": ".py",
   "mimetype": "text/x-python",
   "name": "python",
   "nbconvert_exporter": "python",
   "pygments_lexer": "ipython3",
   "version": "3.9.12"
  }
 },
 "nbformat": 4,
 "nbformat_minor": 5
}
