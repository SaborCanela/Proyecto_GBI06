{
 "cells": [
  {
   "cell_type": "markdown",
   "id": "785815e9-e5ea-49e8-a7f3-066b9883bcec",
   "metadata": {},
   "source": [
    "### <center><h2> INGENIERÍA EN BIOTECNOLOGÍA</h2></center>\n",
    "# <center><h1 style=\"color:red\">GBI6 - BIOINFORMÁTICA</h1></center>\n",
    "\n",
    "\n",
    "<img src=\"https://www.ikiam.edu.ec/img/logo-ikiam-grey.png\" width=400 height=300 />\n",
    "\n",
    "\n",
    "# Desarrollo de una herramienta en Python para observar la aleatoriedad que se genera en el ADN.\n",
    "\n",
    "### Integrantes: Ilady Erazo, Sofia Barros, Thomás Garzón, Alejandra Barros, Akira Gómez\n",
    "\n",
    "## Objetivo\n",
    "    - Desarrollar una herramienta en Python que permita a los investigadores observar la aleatoriedad entre cadenas genéticas"
   ]
  },
  {
   "cell_type": "markdown",
   "id": "11b43b12-9337-4a2b-a706-e7105c7030a0",
   "metadata": {},
   "source": [
    "# Creacion de la secuencia aleatoria"
   ]
  },
  {
   "cell_type": "code",
   "execution_count": 2,
   "id": "7304fb31-214b-406f-86df-00d5dd817fdc",
   "metadata": {},
   "outputs": [],
   "source": [
    "import string #Se importa una libreria la cual nos permite crear diferentes filas de manera mas sencilla\n",
    "import random #Se importa una libreria que nos permite tener resultados aleatorios\n",
    "\n",
    "number_of_strings = 1 #Numero de filas que deseamos obtener\n",
    "length_of_string = 300 #Numero de pares de base que deseamos obtener\n",
    "for x in range(number_of_strings):\n",
    "  Secuens=(''.join(random.choice(\"A\"+\"C\"+\"G\"+\"T\") for _ in range(length_of_string))) #Se guarda en la variable de \"Secuens\" el resultado aleatorio de las pares de bases o cadena de ADN\""
   ]
  },
  {
   "cell_type": "code",
   "execution_count": 3,
   "id": "63ce235f-cdeb-489a-ba0f-515d712c37bc",
   "metadata": {},
   "outputs": [
    {
     "data": {
      "text/plain": [
       "'GTTTCTGAGCATATAAGCGCAAAGGGTGTCAGTGGCTGCGTAACTTGACATTCTCTGCTATCGGGAAAACGGGTTGGGAGAATCGTCTCCGTACGTACTAAAGCCGGTACCCGAGAGGACTCGCAAACTCAGAGGTGGGCAGGGAAACATGCTAGCTCTGTTCGATTCCCCGAGTCGCACAAGTATCCACGATTCTCGCGTAAGTCCTATTGCGCAGTCCGGTAGACGTAGAGAAAATCCCCAACTACATAATGAATAGGGGCGGTGTTGTCTCGTCACACTTTGAGTCTTTTTACTCCG'"
      ]
     },
     "execution_count": 3,
     "metadata": {},
     "output_type": "execute_result"
    }
   ],
   "source": [
    "Secuens #Imprime la cadena aleatoria de ADN para poder visualizar de mejor manera"
   ]
  },
  {
   "cell_type": "markdown",
   "id": "c05c7d37-ddf9-44cc-ac89-b749e9d3865e",
   "metadata": {},
   "source": [
    "# Guardar los resultados en un archivo .fasta"
   ]
  },
  {
   "cell_type": "code",
   "execution_count": 4,
   "id": "82bffe51-31e6-43b2-a924-d265fed519f2",
   "metadata": {},
   "outputs": [],
   "source": [
    "archivo = open(\"aleatorio.fasta\",\"w\") #Se elije el nombre con el cual se desea guardar el resultado y el formato en este caso sera \".fasta\"\n",
    "secuencia_aleatoria = Secuens #Se escoje la variable que tiene el resultado que obtuvimos para guardarlo como un archivo\n",
    "archivo.write(str((secuencia_aleatoria))) #El archivo es guardado\n",
    "archivo.close() #Cierre del proceso"
   ]
  },
  {
   "cell_type": "markdown",
   "id": "ca59887f-7b93-499c-a682-3613ee17a7ee",
   "metadata": {},
   "source": [
    "# BLAST de la secuencia aleatoria"
   ]
  },
  {
   "cell_type": "code",
   "execution_count": 5,
   "id": "b5a845ec-0058-425a-884b-1354705bf66a",
   "metadata": {},
   "outputs": [],
   "source": [
    "from Bio.Blast import NCBIWWW #Debido a la necesidad de hacer blast por navegador, se emplea la importacio nde datos de NCBIWWW\n",
    "fasta_string = open(\"aleatorio.fasta\").read() #Se procede a elejir el archivo fasta que con anterioridad creamos\n",
    "result_handle = NCBIWWW.qblast(\"blastn\", \"nt\", fasta_string) #En este caso se uso \"blastn\", para la busqueda de cadenas de ADn parecidas"
   ]
  },
  {
   "cell_type": "code",
   "execution_count": 6,
   "id": "f400d62e-8c55-4f43-b76a-4c059614efd1",
   "metadata": {},
   "outputs": [],
   "source": [
    "with open(\"aleatorio_blast.xml\", \"w+\") as save_to: #se procede a guardar los resultados\n",
    "     save_to.write(result_handle.read()) \n",
    "result_handle.close() #Cierre del proceso"
   ]
  },
  {
   "cell_type": "markdown",
   "id": "25968102-449f-4165-8d2d-dcc9783d6732",
   "metadata": {},
   "source": [
    "# Resultados"
   ]
  },
  {
   "cell_type": "code",
   "execution_count": 14,
   "id": "36741f96-d2cf-4c4a-84c4-1d5ca07bed86",
   "metadata": {},
   "outputs": [
    {
     "name": "stdout",
     "output_type": "stream",
     "text": [
      "/n\n",
      "****Alignment****\n",
      "sequence: gi|2191748544|emb|OV815276.1| Limnephilus rhombicus genome assembly, chromosome: Z\n",
      "length: 61089441\n",
      "GTAGACGTAGAGAAAATCCCCAACTACATAAT...\n",
      "|||| || ||||||||||||||| ||||||||...\n",
      "GTAGCCGCAGAGAAAATCCCCAATTACATAAT...\n",
      "/nHay 1 secuencias en la salida de BLAST!\n",
      "/n\n",
      "****Alignment****\n",
      "sequence: gi|1721134131|emb|LR697112.1| Chanos chanos genome assembly, chromosome: 7\n",
      "length: 49187548\n",
      "AATGAATAGGGGCGGTGTTGTCTCGTCACACTTTGAGTCTTTTTACTCC...\n",
      "||||| | || | |||||| ||| | |||||||||||||| || || ||...\n",
      "AATGATTTGGAGGGGTGTTTTCTGGGCACACTTTGAGTCTCTTGACCCC...\n",
      "/nHay 2 secuencias en la salida de BLAST!\n"
     ]
    }
   ],
   "source": [
    "from Bio.Blast import NCBIXML#Se importa la base de datos con los resultados de la pagina web que usamos anteriormente\n",
    "result_handle = open(\"aleatorio_blast.xml\", 'r') #Los resultados que guardamos, se proceden a abrir\n",
    "blast_records = NCBIXML.read(result_handle) #Se elije el banco de datos del navegador y se abre el archivo que creamos con l\n",
    "\n",
    "E_VALUE_THRESH = 10\n",
    "ct = 0\n",
    "for alignment in blast_records.alignments:\n",
    "    for hsp in alignment.hsps:\n",
    "        ct += 1\n",
    "        if hsp.expect < E_VALUE_THRESH:\n",
    "            print(\"/n\")\n",
    "            print('****Alignment****')\n",
    "            print('sequence:', alignment.title)\n",
    "            print('length:', alignment.length)\n",
    "            print(hsp.query[0:75] + '...')\n",
    "            print(hsp.match[0:75] + '...')\n",
    "            print(hsp.sbjct[0:75] + '...')\n",
    "        \n",
    "    print(\"/n\" + \"Hay\",ct,\"secuencias en la salida de BLAST!\")"
   ]
  },
  {
   "cell_type": "markdown",
   "id": "e98fd4b4-6bf7-481e-8662-a497e2c47051",
   "metadata": {},
   "source": [
    "# BLAST de ejemplo"
   ]
  },
  {
   "cell_type": "code",
   "execution_count": null,
   "id": "dcb266ab-4bfc-4322-9379-cc832388db6d",
   "metadata": {},
   "outputs": [],
   "source": [
    "from Bio.Blast import NCBIWWW\n",
    "fasta_string = open(\"NZ_KB89904.fasta\").read()\n",
    "result_handle = NCBIWWW.qblast(\"blastn\", \"nt\", fasta_string)"
   ]
  },
  {
   "cell_type": "code",
   "execution_count": null,
   "id": "9c467018-75f7-48be-aa23-15d173af17ca",
   "metadata": {},
   "outputs": [],
   "source": [
    "with open(\"my_blast.xml\", \"w\") as out_handle:\n",
    "     out_handle.write(result_handle.read())\n",
    "\n",
    "result_handle.close()"
   ]
  },
  {
   "cell_type": "code",
   "execution_count": 11,
   "id": "d9fcde00-4ad6-4909-85d2-33a83d34def7",
   "metadata": {},
   "outputs": [
    {
     "name": "stdout",
     "output_type": "stream",
     "text": [
      "/n\n",
      "****Alignment****\n",
      "sequence: gi|206737695|gb|CP001145.1| Coprothermobacter proteolyticus DSM 5265, complete genome\n",
      "length: 1424912\n",
      "TCTCTGTACCACCAAGCGATGTTCCATGTGTGTGCCGCAACATCCAAGCCCACATCAAAGCCTTCAATGTTCAGT...\n",
      "|||||||||||||||||||||||||| ||||| || || || ||||| || | |||  | |||||||||||||| ...\n",
      "TCTCTGTACCACCAAGCGATGTTCCAAGTGTGAGCTGCTACGTCCAATCCAAGATCGTATCCTTCAATGTTCAGC...\n",
      "/n\n",
      "****Alignment****\n",
      "sequence: gi|206737695|gb|CP001145.1| Coprothermobacter proteolyticus DSM 5265, complete genome\n",
      "length: 1424912\n",
      "TCTCTGTACCACCAAGCGATGTTCCATGTGTGTGCCGCAACATCCAAGCCCACATCAAAGCCTTCAATGTTCAGT...\n",
      "|||||||||||||||||||||||||| ||||| || || || ||||| || | |||  | |||||||||||| | ...\n",
      "TCTCTGTACCACCAAGCGATGTTCCAAGTGTGAGCTGCTACGTCCAATCCAAGATCGTATCCTTCAATGTTCTGC...\n",
      "/n\n",
      "****Alignment****\n",
      "sequence: gi|206737695|gb|CP001145.1| Coprothermobacter proteolyticus DSM 5265, complete genome\n",
      "length: 1424912\n",
      "TCGGAGAAACTAGCTGCATTAACAGGGGAGAACCCCACAAAGGACGAAGCTACCAGTACTAATACCAGCAGCCCC...\n",
      "||||||||  |||||||||| ||||||||||||||||||||||| |||||||| || |  | |||||||||||||...\n",
      "TCGGAGAAGTTAGCTGCATTGACAGGGGAGAACCCCACAAAGGATGAAGCTACTAGCATAACTACCAGCAGCCCC...\n",
      "/n\n",
      "****Alignment****\n",
      "sequence: gi|206737695|gb|CP001145.1| Coprothermobacter proteolyticus DSM 5265, complete genome\n",
      "length: 1424912\n",
      "TCGGAGAAACTAGCTGCATTAACAGGGGAGAACCCCACAAAGGACGAAGCTACCAGTACTAATACCAGCAGCCCC...\n",
      "||||||||  |||||||||| || |||||||||||||||||||| |||||||| || |  | |||||||||||||...\n",
      "TCGGAGAAGTTAGCTGCATTTACCGGGGAGAACCCCACAAAGGATGAAGCTACTAGCATAACTACCAGCAGCCCC...\n",
      "/nHay 4 secuencias en la salida de BLAST!\n",
      "/nHay 5 secuencias en la salida de BLAST!\n",
      "/nHay 6 secuencias en la salida de BLAST!\n",
      "/nHay 7 secuencias en la salida de BLAST!\n",
      "/nHay 8 secuencias en la salida de BLAST!\n",
      "/nHay 9 secuencias en la salida de BLAST!\n",
      "/nHay 10 secuencias en la salida de BLAST!\n",
      "/nHay 11 secuencias en la salida de BLAST!\n",
      "/nHay 12 secuencias en la salida de BLAST!\n",
      "/nHay 13 secuencias en la salida de BLAST!\n",
      "/nHay 14 secuencias en la salida de BLAST!\n",
      "/nHay 15 secuencias en la salida de BLAST!\n",
      "/nHay 16 secuencias en la salida de BLAST!\n",
      "/nHay 17 secuencias en la salida de BLAST!\n",
      "/nHay 18 secuencias en la salida de BLAST!\n",
      "/nHay 19 secuencias en la salida de BLAST!\n",
      "/nHay 20 secuencias en la salida de BLAST!\n",
      "/nHay 21 secuencias en la salida de BLAST!\n",
      "/nHay 22 secuencias en la salida de BLAST!\n",
      "/nHay 23 secuencias en la salida de BLAST!\n",
      "/nHay 24 secuencias en la salida de BLAST!\n",
      "/nHay 25 secuencias en la salida de BLAST!\n",
      "/nHay 26 secuencias en la salida de BLAST!\n",
      "/nHay 27 secuencias en la salida de BLAST!\n",
      "/nHay 28 secuencias en la salida de BLAST!\n",
      "/nHay 29 secuencias en la salida de BLAST!\n",
      "/nHay 30 secuencias en la salida de BLAST!\n",
      "/nHay 31 secuencias en la salida de BLAST!\n",
      "/nHay 32 secuencias en la salida de BLAST!\n",
      "/nHay 33 secuencias en la salida de BLAST!\n",
      "/nHay 34 secuencias en la salida de BLAST!\n",
      "/nHay 35 secuencias en la salida de BLAST!\n",
      "/nHay 36 secuencias en la salida de BLAST!\n",
      "/nHay 37 secuencias en la salida de BLAST!\n",
      "/nHay 38 secuencias en la salida de BLAST!\n",
      "/nHay 39 secuencias en la salida de BLAST!\n",
      "/nHay 40 secuencias en la salida de BLAST!\n",
      "/nHay 41 secuencias en la salida de BLAST!\n",
      "/nHay 42 secuencias en la salida de BLAST!\n",
      "/nHay 43 secuencias en la salida de BLAST!\n",
      "/nHay 44 secuencias en la salida de BLAST!\n",
      "/nHay 45 secuencias en la salida de BLAST!\n",
      "/nHay 46 secuencias en la salida de BLAST!\n",
      "/nHay 47 secuencias en la salida de BLAST!\n",
      "/nHay 48 secuencias en la salida de BLAST!\n",
      "/nHay 49 secuencias en la salida de BLAST!\n",
      "/nHay 50 secuencias en la salida de BLAST!\n",
      "/nHay 51 secuencias en la salida de BLAST!\n",
      "/nHay 52 secuencias en la salida de BLAST!\n",
      "/nHay 53 secuencias en la salida de BLAST!\n"
     ]
    }
   ],
   "source": [
    "from Bio.Blast import NCBIXML\n",
    "result_handle = open(\"my_blast.xml\", 'r')\n",
    "blast_records = NCBIXML.read(result_handle)\n",
    "\n",
    "E_VALUE_THRESH = 0.0001\n",
    "ct = 0\n",
    "for alignment in blast_records.alignments:\n",
    "    for hsp in alignment.hsps:\n",
    "        ct += 1\n",
    "        if hsp.expect < E_VALUE_THRESH:\n",
    "            print(\"/n\")\n",
    "            print('****Alignment****')\n",
    "            print('sequence:', alignment.title)\n",
    "            print('length:', alignment.length)\n",
    "            print(hsp.query[0:75] + '...')\n",
    "            print(hsp.match[0:75] + '...')\n",
    "            print(hsp.sbjct[0:75] + '...')\n",
    "        \n",
    "    print(\"/n\" + \"Hay\",ct,\"secuencias en la salida de BLAST!\")"
   ]
  }
 ],
 "metadata": {
  "kernelspec": {
   "display_name": "Python 3 (ipykernel)",
   "language": "python",
   "name": "python3"
  },
  "language_info": {
   "codemirror_mode": {
    "name": "ipython",
    "version": 3
   },
   "file_extension": ".py",
   "mimetype": "text/x-python",
   "name": "python",
   "nbconvert_exporter": "python",
   "pygments_lexer": "ipython3",
   "version": "3.9.12"
  }
 },
 "nbformat": 4,
 "nbformat_minor": 5
}
