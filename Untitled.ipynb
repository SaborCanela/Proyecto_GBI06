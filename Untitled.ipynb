{
 "cells": [
  {
   "cell_type": "code",
   "execution_count": null,
   "id": "7304fb31-214b-406f-86df-00d5dd817fdc",
   "metadata": {},
   "outputs": [],
   "source": [
    "import string\n",
    "import random\n",
    "\n",
    "number_of_strings = 1\n",
    "length_of_string = 2606\n",
    "for x in range(number_of_strings):\n",
    "  Secuens=(''.join(random.choice(\"A\"+\"C\"+\"G\"+\"T\") for _ in range(length_of_string)))"
   ]
  },
  {
   "cell_type": "code",
   "execution_count": null,
   "id": "63ce235f-cdeb-489a-ba0f-515d712c37bc",
   "metadata": {},
   "outputs": [],
   "source": [
    "Secuens"
   ]
  },
  {
   "cell_type": "code",
   "execution_count": 4,
   "id": "dcb266ab-4bfc-4322-9379-cc832388db6d",
   "metadata": {},
   "outputs": [],
   "source": [
    "from Bio.Blast import NCBIWWW\n",
    "fasta_string = open(\"NZ_KB89904.fasta\").read()\n",
    "result_handle = NCBIWWW.qblast(\"blastn\", \"nt\", fasta_string)"
   ]
  },
  {
   "cell_type": "code",
   "execution_count": 9,
   "id": "9c467018-75f7-48be-aa23-15d173af17ca",
   "metadata": {},
   "outputs": [],
   "source": [
    "with open(\"my_blast.xml\", \"w\") as out_handle:\n",
    "     out_handle.write(result_handle.read())\n",
    "\n",
    "result_handle.close()"
   ]
  },
  {
   "cell_type": "code",
   "execution_count": 21,
   "id": "d9fcde00-4ad6-4909-85d2-33a83d34def7",
   "metadata": {},
   "outputs": [
    {
     "name": "stdout",
     "output_type": "stream",
     "text": [
      "/n\n",
      "****Alignment****\n",
      "sequence: gi|206737695|gb|CP001145.1| Coprothermobacter proteolyticus DSM 5265, complete genome\n",
      "length: 1424912\n",
      "TCTCTGTACCACCAAGCGATGTTCCATGTGTGTGCCGCAACATCCAAGCCCACATCAAAGCCTTCAATGTTCAGT...\n",
      "|||||||||||||||||||||||||| ||||| || || || ||||| || | |||  | |||||||||||||| ...\n",
      "TCTCTGTACCACCAAGCGATGTTCCAAGTGTGAGCTGCTACGTCCAATCCAAGATCGTATCCTTCAATGTTCAGC...\n",
      "/n\n",
      "****Alignment****\n",
      "sequence: gi|206737695|gb|CP001145.1| Coprothermobacter proteolyticus DSM 5265, complete genome\n",
      "length: 1424912\n",
      "TCTCTGTACCACCAAGCGATGTTCCATGTGTGTGCCGCAACATCCAAGCCCACATCAAAGCCTTCAATGTTCAGT...\n",
      "|||||||||||||||||||||||||| ||||| || || || ||||| || | |||  | |||||||||||| | ...\n",
      "TCTCTGTACCACCAAGCGATGTTCCAAGTGTGAGCTGCTACGTCCAATCCAAGATCGTATCCTTCAATGTTCTGC...\n",
      "/n\n",
      "****Alignment****\n",
      "sequence: gi|206737695|gb|CP001145.1| Coprothermobacter proteolyticus DSM 5265, complete genome\n",
      "length: 1424912\n",
      "TCGGAGAAACTAGCTGCATTAACAGGGGAGAACCCCACAAAGGACGAAGCTACCAGTACTAATACCAGCAGCCCC...\n",
      "||||||||  |||||||||| ||||||||||||||||||||||| |||||||| || |  | |||||||||||||...\n",
      "TCGGAGAAGTTAGCTGCATTGACAGGGGAGAACCCCACAAAGGATGAAGCTACTAGCATAACTACCAGCAGCCCC...\n",
      "/n\n",
      "****Alignment****\n",
      "sequence: gi|206737695|gb|CP001145.1| Coprothermobacter proteolyticus DSM 5265, complete genome\n",
      "length: 1424912\n",
      "TCGGAGAAACTAGCTGCATTAACAGGGGAGAACCCCACAAAGGACGAAGCTACCAGTACTAATACCAGCAGCCCC...\n",
      "||||||||  |||||||||| || |||||||||||||||||||| |||||||| || |  | |||||||||||||...\n",
      "TCGGAGAAGTTAGCTGCATTTACCGGGGAGAACCCCACAAAGGATGAAGCTACTAGCATAACTACCAGCAGCCCC...\n",
      "/nHay 4 secuencias en la salida de BLAST!\n",
      "/nHay 5 secuencias en la salida de BLAST!\n",
      "/nHay 6 secuencias en la salida de BLAST!\n",
      "/nHay 7 secuencias en la salida de BLAST!\n",
      "/nHay 8 secuencias en la salida de BLAST!\n",
      "/nHay 9 secuencias en la salida de BLAST!\n",
      "/nHay 10 secuencias en la salida de BLAST!\n",
      "/nHay 11 secuencias en la salida de BLAST!\n",
      "/nHay 12 secuencias en la salida de BLAST!\n",
      "/nHay 13 secuencias en la salida de BLAST!\n",
      "/nHay 14 secuencias en la salida de BLAST!\n",
      "/nHay 15 secuencias en la salida de BLAST!\n",
      "/nHay 16 secuencias en la salida de BLAST!\n",
      "/nHay 17 secuencias en la salida de BLAST!\n",
      "/nHay 18 secuencias en la salida de BLAST!\n",
      "/nHay 19 secuencias en la salida de BLAST!\n",
      "/nHay 20 secuencias en la salida de BLAST!\n",
      "/nHay 21 secuencias en la salida de BLAST!\n",
      "/nHay 22 secuencias en la salida de BLAST!\n",
      "/nHay 23 secuencias en la salida de BLAST!\n",
      "/nHay 24 secuencias en la salida de BLAST!\n",
      "/nHay 25 secuencias en la salida de BLAST!\n",
      "/nHay 26 secuencias en la salida de BLAST!\n",
      "/nHay 27 secuencias en la salida de BLAST!\n",
      "/nHay 28 secuencias en la salida de BLAST!\n",
      "/nHay 29 secuencias en la salida de BLAST!\n",
      "/nHay 30 secuencias en la salida de BLAST!\n",
      "/nHay 31 secuencias en la salida de BLAST!\n",
      "/nHay 32 secuencias en la salida de BLAST!\n",
      "/nHay 33 secuencias en la salida de BLAST!\n",
      "/nHay 34 secuencias en la salida de BLAST!\n",
      "/nHay 35 secuencias en la salida de BLAST!\n",
      "/nHay 36 secuencias en la salida de BLAST!\n",
      "/nHay 37 secuencias en la salida de BLAST!\n",
      "/nHay 38 secuencias en la salida de BLAST!\n",
      "/nHay 39 secuencias en la salida de BLAST!\n",
      "/nHay 40 secuencias en la salida de BLAST!\n",
      "/nHay 41 secuencias en la salida de BLAST!\n",
      "/nHay 42 secuencias en la salida de BLAST!\n",
      "/nHay 43 secuencias en la salida de BLAST!\n",
      "/nHay 44 secuencias en la salida de BLAST!\n",
      "/nHay 45 secuencias en la salida de BLAST!\n",
      "/nHay 46 secuencias en la salida de BLAST!\n",
      "/nHay 47 secuencias en la salida de BLAST!\n",
      "/nHay 48 secuencias en la salida de BLAST!\n",
      "/nHay 49 secuencias en la salida de BLAST!\n",
      "/nHay 50 secuencias en la salida de BLAST!\n",
      "/nHay 51 secuencias en la salida de BLAST!\n",
      "/nHay 52 secuencias en la salida de BLAST!\n",
      "/nHay 53 secuencias en la salida de BLAST!\n"
     ]
    }
   ],
   "source": [
    "from Bio.Blast import NCBIXML\n",
    "result_handle = open(\"my_blast.xml\", 'r')\n",
    "blast_records = NCBIXML.read(result_handle)\n",
    "\n",
    "E_VALUE_THRESH = 0.0001\n",
    "ct = 0\n",
    "for alignment in blast_records.alignments:\n",
    "    for hsp in alignment.hsps:\n",
    "        ct += 1\n",
    "        if hsp.expect < E_VALUE_THRESH:\n",
    "            print(\"/n\")\n",
    "            print('****Alignment****')\n",
    "            print('sequence:', alignment.title)\n",
    "            print('length:', alignment.length)\n",
    "            print(hsp.query[0:75] + '...')\n",
    "            print(hsp.match[0:75] + '...')\n",
    "            print(hsp.sbjct[0:75] + '...')\n",
    "        \n",
    "    print(\"/n\" + \"Hay\",ct,\"secuencias en la salida de BLAST!\")"
   ]
  }
 ],
 "metadata": {
  "kernelspec": {
   "display_name": "Python 3 (ipykernel)",
   "language": "python",
   "name": "python3"
  },
  "language_info": {
   "codemirror_mode": {
    "name": "ipython",
    "version": 3
   },
   "file_extension": ".py",
   "mimetype": "text/x-python",
   "name": "python",
   "nbconvert_exporter": "python",
   "pygments_lexer": "ipython3",
   "version": "3.9.12"
  }
 },
 "nbformat": 4,
 "nbformat_minor": 5
}
